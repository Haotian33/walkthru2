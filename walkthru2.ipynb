{
 "cells": [
  {
   "cell_type": "markdown",
   "id": "6afa6715-8d0a-4d23-9c77-0d6fd9d034a9",
   "metadata": {},
   "source": [
    "## Walkthru sample 2"
   ]
  },
  {
   "cell_type": "markdown",
   "id": "392151b3-dc47-42cc-bdc5-89c24a72ab82",
   "metadata": {},
   "source": [
    "here is how i calculate `1+1`:"
   ]
  },
  {
   "cell_type": "code",
   "execution_count": 2,
   "id": "ef2be371-0569-4448-907f-1422ba475511",
   "metadata": {},
   "outputs": [
    {
     "data": {
      "text/plain": [
       "2"
      ]
     },
     "execution_count": 2,
     "metadata": {},
     "output_type": "execute_result"
    }
   ],
   "source": [
    "1+1"
   ]
  },
  {
   "cell_type": "markdown",
   "id": "3116e251-ddfd-4827-ab26-6531bbd26ea8",
   "metadata": {},
   "source": [
    "here is how I calaulate `sin`:"
   ]
  },
  {
   "cell_type": "code",
   "execution_count": null,
   "id": "427a882c-389f-47fa-bfe1-127062b98c9d",
   "metadata": {},
   "outputs": [],
   "source": [
    "sin"
   ]
  }
 ],
 "metadata": {
  "kernelspec": {
   "display_name": "Python 3 (ipykernel)",
   "language": "python",
   "name": "python3"
  },
  "language_info": {
   "codemirror_mode": {
    "name": "ipython",
    "version": 3
   },
   "file_extension": ".py",
   "mimetype": "text/x-python",
   "name": "python",
   "nbconvert_exporter": "python",
   "pygments_lexer": "ipython3",
   "version": "3.12.8"
  }
 },
 "nbformat": 4,
 "nbformat_minor": 5
}
